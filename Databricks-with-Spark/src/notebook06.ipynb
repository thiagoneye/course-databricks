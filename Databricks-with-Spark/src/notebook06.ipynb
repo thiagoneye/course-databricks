{
 "cells": [
  {
   "cell_type": "code",
   "execution_count": 0,
   "metadata": {
    "application/vnd.databricks.v1+cell": {
     "cellMetadata": {
      "byteLimit": 2048000,
      "rowLimit": 10000
     },
     "inputWidgets": {},
     "nuid": "970c35fc-b8fe-4b70-8850-9dc66030ad75",
     "showTitle": false,
     "tableResultSettingsMap": {},
     "title": ""
    }
   },
   "outputs": [
    {
     "output_type": "stream",
     "name": "stdout",
     "output_type": "stream",
     "text": [
      "+---+-----+-----+\n| id| nome|idade|\n+---+-----+-----+\n|  1| João|   25|\n|  2|Maria|   30|\n+---+-----+-----+\n\n"
     ]
    }
   ],
   "source": [
    "# Importando as bibliotecas necessárias\n",
    "from delta.tables import *\n",
    "# Caminho para o diretório Delta Lake onde os dados serão armazenados\n",
    "delta_path = \"/Volumes/workspace/default/data_files/evolutivo\"\n",
    "\n",
    "# Criação de um DataFrame de exemplo com um esquema inicial\n",
    "df = spark.createDataFrame([(1, \"João\", 25), (2, \"Maria\", 30)], [\"id\", \"nome\", \"idade\"])\n",
    "df.show()"
   ]
  },
  {
   "cell_type": "code",
   "execution_count": 0,
   "metadata": {
    "application/vnd.databricks.v1+cell": {
     "cellMetadata": {
      "byteLimit": 2048000,
      "rowLimit": 10000
     },
     "inputWidgets": {},
     "nuid": "47d6c7d2-5656-4c29-87fe-95b2927195e0",
     "showTitle": false,
     "tableResultSettingsMap": {},
     "title": ""
    }
   },
   "outputs": [],
   "source": [
    "# Salvando o DataFrame no formato Delta Lake\n",
    "df.write.format(\"delta\").mode(\"overwrite\").save(delta_path)\n",
    "\n",
    "# Realizando uma atualização no esquema: adicionando uma nova coluna \"cidade\"\n",
    "df_novo_esquema = spark.createDataFrame([(1, \"João\", 25, \"São Paulo\"), (2, \"Maria\", 30, \"Rio de Janeiro\")],\n",
    "                                        [\"id\", \"nome\", \"idade\", \"cidade\"])\n",
    "\n",
    "# Salvando o DataFrame com o novo esquema no mesmo diretório Delta Lake\n",
    "df_novo_esquema.write.format(\"delta\").mode(\"overwrite\").option(\"mergeSchema\", \"true\").save(delta_path)"
   ]
  },
  {
   "cell_type": "code",
   "execution_count": 0,
   "metadata": {
    "application/vnd.databricks.v1+cell": {
     "cellMetadata": {
      "byteLimit": 2048000,
      "rowLimit": 10000
     },
     "inputWidgets": {},
     "nuid": "c775f2d4-c7e9-465f-901e-6cb18c2f04dc",
     "showTitle": false,
     "tableResultSettingsMap": {},
     "title": ""
    }
   },
   "outputs": [
    {
     "output_type": "display_data",
     "data": {
      "text/html": [
       "<style scoped>\n",
       "  .table-result-container {\n",
       "    max-height: 300px;\n",
       "    overflow: auto;\n",
       "  }\n",
       "  table, th, td {\n",
       "    border: 1px solid black;\n",
       "    border-collapse: collapse;\n",
       "  }\n",
       "  th, td {\n",
       "    padding: 5px;\n",
       "  }\n",
       "  th {\n",
       "    text-align: left;\n",
       "  }\n",
       "</style><div class='table-result-container'><table class='table-result'><thead style='background-color: white'><tr><th>version</th><th>timestamp</th><th>operation</th><th>operationMetrics</th></tr></thead><tbody><tr><td>1</td><td>2025-07-17T23:38:57.000Z</td><td>WRITE</td><td>Map(numFiles -> 1, numRemovedFiles -> 1, numRemovedBytes -> 1052, numOutputRows -> 2, numOutputBytes -> 1297)</td></tr><tr><td>0</td><td>2025-07-17T23:38:55.000Z</td><td>WRITE</td><td>Map(numFiles -> 1, numRemovedFiles -> 0, numRemovedBytes -> 0, numOutputRows -> 2, numOutputBytes -> 1052)</td></tr></tbody></table></div>"
      ]
     },
     "metadata": {
      "application/vnd.databricks.v1+output": {
       "addedWidgets": {},
       "aggData": [],
       "aggError": "",
       "aggOverflow": false,
       "aggSchema": [],
       "aggSeriesLimitReached": false,
       "aggType": "",
       "arguments": {},
       "columnCustomDisplayInfos": {},
       "data": [
        [
         1,
         "2025-07-17T23:38:57.000Z",
         "WRITE",
         {
          "numFiles": "1",
          "numOutputBytes": "1297",
          "numOutputRows": "2",
          "numRemovedBytes": "1052",
          "numRemovedFiles": "1"
         }
        ],
        [
         0,
         "2025-07-17T23:38:55.000Z",
         "WRITE",
         {
          "numFiles": "1",
          "numOutputBytes": "1052",
          "numOutputRows": "2",
          "numRemovedBytes": "0",
          "numRemovedFiles": "0"
         }
        ]
       ],
       "datasetInfos": [],
       "dbfsResultPath": null,
       "isJsonSchema": true,
       "metadata": {},
       "overflow": false,
       "plotOptions": {
        "customPlotOptions": {},
        "displayType": "table",
        "pivotAggregation": null,
        "pivotColumns": null,
        "xColumns": null,
        "yColumns": null
       },
       "removedWidgets": [],
       "schema": [
        {
         "metadata": "{}",
         "name": "version",
         "type": "\"long\""
        },
        {
         "metadata": "{}",
         "name": "timestamp",
         "type": "\"timestamp\""
        },
        {
         "metadata": "{}",
         "name": "operation",
         "type": "\"string\""
        },
        {
         "metadata": "{}",
         "name": "operationMetrics",
         "type": "{\"keyType\":\"string\",\"type\":\"map\",\"valueContainsNull\":true,\"valueType\":\"string\"}"
        }
       ],
       "type": "table"
      }
     },
     "output_type": "display_data"
    },
    {
     "output_type": "execute_result",
     "data": {
      "text/plain": [
       "DataFrame[version: bigint, timestamp: timestamp, operation: string, operationMetrics: map<string,string>]"
      ]
     },
     "execution_count": 10,
     "metadata": {},
     "output_type": "execute_result"
    }
   ],
   "source": [
    "%%sql\n",
    "SELECT version, timestamp, operation, operationMetrics\n",
    "FROM (\n",
    "  DESCRIBE HISTORY delta.`/Volumes/workspace/default/data_files/evolutivo`\n",
    ")"
   ]
  },
  {
   "cell_type": "code",
   "execution_count": 0,
   "metadata": {
    "application/vnd.databricks.v1+cell": {
     "cellMetadata": {
      "byteLimit": 2048000,
      "rowLimit": 10000
     },
     "inputWidgets": {},
     "nuid": "fc3c340c-8afd-4e56-9f5d-982a9953cad6",
     "showTitle": false,
     "tableResultSettingsMap": {},
     "title": ""
    }
   },
   "outputs": [
    {
     "output_type": "stream",
     "name": "stdout",
     "output_type": "stream",
     "text": [
      "+---+-----+-----+--------------+\n| id| nome|idade|        cidade|\n+---+-----+-----+--------------+\n|  1| João|   25|     São Paulo|\n|  2|Maria|   30|Rio de Janeiro|\n+---+-----+-----+--------------+\n\n"
     ]
    }
   ],
   "source": [
    "# Lendo o DataFrame com o esquema evolutivo\n",
    "df_esquema_atual = spark.read.format(\"delta\").load(delta_path)\n",
    "# Exibindo o DataFrame resultante\n",
    "df_esquema_atual.show()"
   ]
  },
  {
   "cell_type": "code",
   "execution_count": 0,
   "metadata": {
    "application/vnd.databricks.v1+cell": {
     "cellMetadata": {
      "byteLimit": 2048000,
      "rowLimit": 10000
     },
     "inputWidgets": {},
     "nuid": "074f5136-ac0c-4d5b-a7f7-7c01d23edb88",
     "showTitle": false,
     "tableResultSettingsMap": {},
     "title": ""
    }
   },
   "outputs": [
    {
     "output_type": "stream",
     "name": "stdout",
     "output_type": "stream",
     "text": [
      "+---+-----+-----+\n| id| nome|idade|\n+---+-----+-----+\n|  1| João|   25|\n|  2|Maria|   30|\n+---+-----+-----+\n\n"
     ]
    }
   ],
   "source": [
    "# Carregando o DataFrame de uma versão anterior do Delta Lake\n",
    "df_versao_0 = spark.read.format(\"delta\").option(\"versionAsOf\", 0).load(delta_path)\n",
    "# Exibindo o DataFrame da versão 0\n",
    "df_versao_0.show()"
   ]
  },
  {
   "cell_type": "code",
   "execution_count": 0,
   "metadata": {
    "application/vnd.databricks.v1+cell": {
     "cellMetadata": {
      "byteLimit": 2048000,
      "rowLimit": 10000
     },
     "inputWidgets": {},
     "nuid": "763d2af7-05c2-42f3-95d4-0799d4a63664",
     "showTitle": false,
     "tableResultSettingsMap": {},
     "title": ""
    }
   },
   "outputs": [
    {
     "output_type": "execute_result",
     "data": {
      "text/plain": [
       "True"
      ]
     },
     "execution_count": 21,
     "metadata": {},
     "output_type": "execute_result"
    }
   ],
   "source": [
    "dbutils.fs.rm(\"/Volumes/workspace/default/data_files/evolutivo\", recurse=True)"
   ]
  }
 ],
 "metadata": {
  "application/vnd.databricks.v1+notebook": {
   "computePreferences": null,
   "dashboards": [],
   "environmentMetadata": null,
   "inputWidgetPreferences": null,
   "language": "python",
   "notebookMetadata": {
    "pythonIndentUnit": 4
   },
   "notebookName": "notebook06",
   "widgets": {}
  },
  "language_info": {
   "name": "python"
  }
 },
 "nbformat": 4,
 "nbformat_minor": 0
}