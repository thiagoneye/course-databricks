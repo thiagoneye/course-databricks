{
 "cells": [
  {
   "cell_type": "code",
   "execution_count": 0,
   "metadata": {
    "application/vnd.databricks.v1+cell": {
     "cellMetadata": {
      "byteLimit": 2048000,
      "rowLimit": 10000
     },
     "inputWidgets": {},
     "nuid": "1712d76d-420c-483e-b6d7-d0df591d6bde",
     "showTitle": false,
     "tableResultSettingsMap": {},
     "title": ""
    }
   },
   "outputs": [],
   "source": [
    "df_carro = spark.read.option(\"header\", True) \\\n",
    "               .option(\"sep\", \";\") \\\n",
    "               .csv(\"/Volumes/workspace/default/data_files/carros.csv\")\n",
    "df_carro.write.mode(\"overwrite\").saveAsTable(\"carros\")\n"
   ]
  },
  {
   "cell_type": "code",
   "execution_count": 0,
   "metadata": {
    "application/vnd.databricks.v1+cell": {
     "cellMetadata": {
      "byteLimit": 2048000,
      "implicitDf": true,
      "rowLimit": 10000
     },
     "inputWidgets": {},
     "nuid": "7760dd89-fbce-4642-b015-dae4f1e0d51b",
     "showTitle": false,
     "tableResultSettingsMap": {},
     "title": ""
    }
   },
   "outputs": [
    {
     "output_type": "display_data",
     "data": {
      "text/html": [
       "<style scoped>\n",
       "  .table-result-container {\n",
       "    max-height: 300px;\n",
       "    overflow: auto;\n",
       "  }\n",
       "  table, th, td {\n",
       "    border: 1px solid black;\n",
       "    border-collapse: collapse;\n",
       "  }\n",
       "  th, td {\n",
       "    padding: 5px;\n",
       "  }\n",
       "  th {\n",
       "    text-align: left;\n",
       "  }\n",
       "</style><div class='table-result-container'><table class='table-result'><thead style='background-color: white'><tr><th>Consumo</th><th>Cilindros</th><th>Cilindradas</th><th>RelEixoTraseiro</th><th>Peso</th><th>Tempo</th><th>TipoMotor</th><th>Transmissao</th><th>Marchas</th><th>Carburadors</th><th>HP</th></tr></thead><tbody><tr><td>21</td><td>6</td><td>160</td><td>39</td><td>262</td><td>1646</td><td>0</td><td>1</td><td>4</td><td>4</td><td>110</td></tr><tr><td>21</td><td>6</td><td>160</td><td>39</td><td>2875</td><td>1702</td><td>0</td><td>1</td><td>4</td><td>4</td><td>110</td></tr><tr><td>228</td><td>4</td><td>108</td><td>385</td><td>232</td><td>1861</td><td>1</td><td>1</td><td>4</td><td>1</td><td>93</td></tr><tr><td>214</td><td>6</td><td>258</td><td>308</td><td>3215</td><td>1944</td><td>1</td><td>0</td><td>3</td><td>1</td><td>110</td></tr><tr><td>187</td><td>8</td><td>360</td><td>315</td><td>344</td><td>1702</td><td>0</td><td>0</td><td>3</td><td>2</td><td>175</td></tr><tr><td>181</td><td>6</td><td>225</td><td>276</td><td>346</td><td>2022</td><td>1</td><td>0</td><td>3</td><td>1</td><td>105</td></tr><tr><td>143</td><td>8</td><td>360</td><td>321</td><td>357</td><td>1584</td><td>0</td><td>0</td><td>3</td><td>4</td><td>245</td></tr><tr><td>244</td><td>4</td><td>1467</td><td>369</td><td>319</td><td>20</td><td>1</td><td>0</td><td>4</td><td>2</td><td>62</td></tr><tr><td>228</td><td>4</td><td>1408</td><td>392</td><td>315</td><td>229</td><td>1</td><td>0</td><td>4</td><td>2</td><td>95</td></tr><tr><td>192</td><td>6</td><td>1676</td><td>392</td><td>344</td><td>183</td><td>1</td><td>0</td><td>4</td><td>4</td><td>123</td></tr><tr><td>178</td><td>6</td><td>1676</td><td>392</td><td>344</td><td>189</td><td>1</td><td>0</td><td>4</td><td>4</td><td>123</td></tr><tr><td>164</td><td>8</td><td>2758</td><td>307</td><td>407</td><td>174</td><td>0</td><td>0</td><td>3</td><td>3</td><td>180</td></tr><tr><td>173</td><td>8</td><td>2758</td><td>307</td><td>373</td><td>176</td><td>0</td><td>0</td><td>3</td><td>3</td><td>180</td></tr><tr><td>152</td><td>8</td><td>2758</td><td>307</td><td>378</td><td>18</td><td>0</td><td>0</td><td>3</td><td>3</td><td>180</td></tr><tr><td>104</td><td>8</td><td>472</td><td>293</td><td>525</td><td>1798</td><td>0</td><td>0</td><td>3</td><td>4</td><td>205</td></tr><tr><td>104</td><td>8</td><td>460</td><td>3</td><td>5424</td><td>1782</td><td>0</td><td>0</td><td>3</td><td>4</td><td>215</td></tr><tr><td>147</td><td>8</td><td>440</td><td>323</td><td>5345</td><td>1742</td><td>0</td><td>0</td><td>3</td><td>4</td><td>230</td></tr><tr><td>324</td><td>4</td><td>787</td><td>408</td><td>22</td><td>1947</td><td>1</td><td>1</td><td>4</td><td>1</td><td>66</td></tr><tr><td>304</td><td>4</td><td>757</td><td>493</td><td>1615</td><td>1852</td><td>1</td><td>1</td><td>4</td><td>2</td><td>52</td></tr><tr><td>339</td><td>4</td><td>711</td><td>422</td><td>1835</td><td>199</td><td>1</td><td>1</td><td>4</td><td>1</td><td>65</td></tr><tr><td>215</td><td>4</td><td>1201</td><td>37</td><td>2465</td><td>2001</td><td>1</td><td>0</td><td>3</td><td>1</td><td>97</td></tr><tr><td>155</td><td>8</td><td>318</td><td>276</td><td>352</td><td>1687</td><td>0</td><td>0</td><td>3</td><td>2</td><td>150</td></tr><tr><td>152</td><td>8</td><td>304</td><td>315</td><td>3435</td><td>173</td><td>0</td><td>0</td><td>3</td><td>2</td><td>150</td></tr><tr><td>133</td><td>8</td><td>350</td><td>373</td><td>384</td><td>1541</td><td>0</td><td>0</td><td>3</td><td>4</td><td>245</td></tr><tr><td>192</td><td>8</td><td>400</td><td>308</td><td>3845</td><td>1705</td><td>0</td><td>0</td><td>3</td><td>2</td><td>175</td></tr><tr><td>273</td><td>4</td><td>79</td><td>408</td><td>1935</td><td>189</td><td>1</td><td>1</td><td>4</td><td>1</td><td>66</td></tr><tr><td>26</td><td>4</td><td>1203</td><td>443</td><td>214</td><td>167</td><td>0</td><td>1</td><td>5</td><td>2</td><td>91</td></tr><tr><td>304</td><td>4</td><td>951</td><td>377</td><td>1513</td><td>169</td><td>1</td><td>1</td><td>5</td><td>2</td><td>113</td></tr><tr><td>158</td><td>8</td><td>351</td><td>422</td><td>317</td><td>145</td><td>0</td><td>1</td><td>5</td><td>4</td><td>264</td></tr><tr><td>197</td><td>6</td><td>145</td><td>362</td><td>277</td><td>155</td><td>0</td><td>1</td><td>5</td><td>6</td><td>175</td></tr><tr><td>15</td><td>8</td><td>301</td><td>354</td><td>357</td><td>146</td><td>0</td><td>1</td><td>5</td><td>8</td><td>335</td></tr><tr><td>214</td><td>4</td><td>121</td><td>411</td><td>278</td><td>186</td><td>1</td><td>1</td><td>4</td><td>2</td><td>109</td></tr></tbody></table></div>"
      ]
     },
     "metadata": {
      "application/vnd.databricks.v1+output": {
       "addedWidgets": {},
       "aggData": [],
       "aggError": "",
       "aggOverflow": false,
       "aggSchema": [],
       "aggSeriesLimitReached": false,
       "aggType": "",
       "arguments": {},
       "columnCustomDisplayInfos": {},
       "data": [
        [
         "21",
         "6",
         "160",
         "39",
         "262",
         "1646",
         "0",
         "1",
         "4",
         "4",
         "110"
        ],
        [
         "21",
         "6",
         "160",
         "39",
         "2875",
         "1702",
         "0",
         "1",
         "4",
         "4",
         "110"
        ],
        [
         "228",
         "4",
         "108",
         "385",
         "232",
         "1861",
         "1",
         "1",
         "4",
         "1",
         "93"
        ],
        [
         "214",
         "6",
         "258",
         "308",
         "3215",
         "1944",
         "1",
         "0",
         "3",
         "1",
         "110"
        ],
        [
         "187",
         "8",
         "360",
         "315",
         "344",
         "1702",
         "0",
         "0",
         "3",
         "2",
         "175"
        ],
        [
         "181",
         "6",
         "225",
         "276",
         "346",
         "2022",
         "1",
         "0",
         "3",
         "1",
         "105"
        ],
        [
         "143",
         "8",
         "360",
         "321",
         "357",
         "1584",
         "0",
         "0",
         "3",
         "4",
         "245"
        ],
        [
         "244",
         "4",
         "1467",
         "369",
         "319",
         "20",
         "1",
         "0",
         "4",
         "2",
         "62"
        ],
        [
         "228",
         "4",
         "1408",
         "392",
         "315",
         "229",
         "1",
         "0",
         "4",
         "2",
         "95"
        ],
        [
         "192",
         "6",
         "1676",
         "392",
         "344",
         "183",
         "1",
         "0",
         "4",
         "4",
         "123"
        ],
        [
         "178",
         "6",
         "1676",
         "392",
         "344",
         "189",
         "1",
         "0",
         "4",
         "4",
         "123"
        ],
        [
         "164",
         "8",
         "2758",
         "307",
         "407",
         "174",
         "0",
         "0",
         "3",
         "3",
         "180"
        ],
        [
         "173",
         "8",
         "2758",
         "307",
         "373",
         "176",
         "0",
         "0",
         "3",
         "3",
         "180"
        ],
        [
         "152",
         "8",
         "2758",
         "307",
         "378",
         "18",
         "0",
         "0",
         "3",
         "3",
         "180"
        ],
        [
         "104",
         "8",
         "472",
         "293",
         "525",
         "1798",
         "0",
         "0",
         "3",
         "4",
         "205"
        ],
        [
         "104",
         "8",
         "460",
         "3",
         "5424",
         "1782",
         "0",
         "0",
         "3",
         "4",
         "215"
        ],
        [
         "147",
         "8",
         "440",
         "323",
         "5345",
         "1742",
         "0",
         "0",
         "3",
         "4",
         "230"
        ],
        [
         "324",
         "4",
         "787",
         "408",
         "22",
         "1947",
         "1",
         "1",
         "4",
         "1",
         "66"
        ],
        [
         "304",
         "4",
         "757",
         "493",
         "1615",
         "1852",
         "1",
         "1",
         "4",
         "2",
         "52"
        ],
        [
         "339",
         "4",
         "711",
         "422",
         "1835",
         "199",
         "1",
         "1",
         "4",
         "1",
         "65"
        ],
        [
         "215",
         "4",
         "1201",
         "37",
         "2465",
         "2001",
         "1",
         "0",
         "3",
         "1",
         "97"
        ],
        [
         "155",
         "8",
         "318",
         "276",
         "352",
         "1687",
         "0",
         "0",
         "3",
         "2",
         "150"
        ],
        [
         "152",
         "8",
         "304",
         "315",
         "3435",
         "173",
         "0",
         "0",
         "3",
         "2",
         "150"
        ],
        [
         "133",
         "8",
         "350",
         "373",
         "384",
         "1541",
         "0",
         "0",
         "3",
         "4",
         "245"
        ],
        [
         "192",
         "8",
         "400",
         "308",
         "3845",
         "1705",
         "0",
         "0",
         "3",
         "2",
         "175"
        ],
        [
         "273",
         "4",
         "79",
         "408",
         "1935",
         "189",
         "1",
         "1",
         "4",
         "1",
         "66"
        ],
        [
         "26",
         "4",
         "1203",
         "443",
         "214",
         "167",
         "0",
         "1",
         "5",
         "2",
         "91"
        ],
        [
         "304",
         "4",
         "951",
         "377",
         "1513",
         "169",
         "1",
         "1",
         "5",
         "2",
         "113"
        ],
        [
         "158",
         "8",
         "351",
         "422",
         "317",
         "145",
         "0",
         "1",
         "5",
         "4",
         "264"
        ],
        [
         "197",
         "6",
         "145",
         "362",
         "277",
         "155",
         "0",
         "1",
         "5",
         "6",
         "175"
        ],
        [
         "15",
         "8",
         "301",
         "354",
         "357",
         "146",
         "0",
         "1",
         "5",
         "8",
         "335"
        ],
        [
         "214",
         "4",
         "121",
         "411",
         "278",
         "186",
         "1",
         "1",
         "4",
         "2",
         "109"
        ]
       ],
       "datasetInfos": [],
       "dbfsResultPath": null,
       "isJsonSchema": true,
       "metadata": {},
       "overflow": false,
       "plotOptions": {
        "customPlotOptions": {},
        "displayType": "table",
        "pivotAggregation": null,
        "pivotColumns": null,
        "xColumns": null,
        "yColumns": null
       },
       "removedWidgets": [],
       "schema": [
        {
         "metadata": "{}",
         "name": "Consumo",
         "type": "\"string\""
        },
        {
         "metadata": "{}",
         "name": "Cilindros",
         "type": "\"string\""
        },
        {
         "metadata": "{}",
         "name": "Cilindradas",
         "type": "\"string\""
        },
        {
         "metadata": "{}",
         "name": "RelEixoTraseiro",
         "type": "\"string\""
        },
        {
         "metadata": "{}",
         "name": "Peso",
         "type": "\"string\""
        },
        {
         "metadata": "{}",
         "name": "Tempo",
         "type": "\"string\""
        },
        {
         "metadata": "{}",
         "name": "TipoMotor",
         "type": "\"string\""
        },
        {
         "metadata": "{}",
         "name": "Transmissao",
         "type": "\"string\""
        },
        {
         "metadata": "{}",
         "name": "Marchas",
         "type": "\"string\""
        },
        {
         "metadata": "{}",
         "name": "Carburadors",
         "type": "\"string\""
        },
        {
         "metadata": "{}",
         "name": "HP",
         "type": "\"string\""
        }
       ],
       "type": "table"
      }
     },
     "output_type": "display_data"
    },
    {
     "output_type": "execute_result",
     "data": {
      "text/plain": [
       "DataFrame[Consumo: string, Cilindros: string, Cilindradas: string, RelEixoTraseiro: string, Peso: string, Tempo: string, TipoMotor: string, Transmissao: string, Marchas: string, Carburadors: string, HP: string]"
      ]
     },
     "execution_count": 8,
     "metadata": {},
     "output_type": "execute_result"
    }
   ],
   "source": [
    "%%sql\n",
    "SELECT * FROM carros"
   ]
  },
  {
   "cell_type": "code",
   "execution_count": 0,
   "metadata": {
    "application/vnd.databricks.v1+cell": {
     "cellMetadata": {
      "byteLimit": 2048000,
      "implicitDf": true,
      "rowLimit": 10000
     },
     "inputWidgets": {},
     "nuid": "3321cfbc-24c6-435e-b124-3c16e68a43e0",
     "showTitle": false,
     "tableResultSettingsMap": {},
     "title": ""
    }
   },
   "outputs": [
    {
     "output_type": "display_data",
     "data": {
      "text/html": [
       "<style scoped>\n",
       "  .table-result-container {\n",
       "    max-height: 300px;\n",
       "    overflow: auto;\n",
       "  }\n",
       "  table, th, td {\n",
       "    border: 1px solid black;\n",
       "    border-collapse: collapse;\n",
       "  }\n",
       "  th, td {\n",
       "    padding: 5px;\n",
       "  }\n",
       "  th {\n",
       "    text-align: left;\n",
       "  }\n",
       "</style><div class='table-result-container'><table class='table-result'><thead style='background-color: white'><tr><th>Consumo</th><th>Cilindros</th><th>Cilindradas</th><th>RelEixoTraseiro</th><th>Peso</th><th>Tempo</th><th>TipoMotor</th><th>Transmissao</th><th>Marchas</th><th>Carburadors</th><th>HP</th></tr></thead><tbody><tr><td>228</td><td>4</td><td>108</td><td>385</td><td>232</td><td>1861</td><td>1</td><td>1</td><td>4</td><td>1</td><td>93</td></tr><tr><td>244</td><td>4</td><td>1467</td><td>369</td><td>319</td><td>20</td><td>1</td><td>0</td><td>4</td><td>2</td><td>62</td></tr><tr><td>228</td><td>4</td><td>1408</td><td>392</td><td>315</td><td>229</td><td>1</td><td>0</td><td>4</td><td>2</td><td>95</td></tr><tr><td>324</td><td>4</td><td>787</td><td>408</td><td>22</td><td>1947</td><td>1</td><td>1</td><td>4</td><td>1</td><td>66</td></tr><tr><td>304</td><td>4</td><td>757</td><td>493</td><td>1615</td><td>1852</td><td>1</td><td>1</td><td>4</td><td>2</td><td>52</td></tr><tr><td>339</td><td>4</td><td>711</td><td>422</td><td>1835</td><td>199</td><td>1</td><td>1</td><td>4</td><td>1</td><td>65</td></tr><tr><td>215</td><td>4</td><td>1201</td><td>37</td><td>2465</td><td>2001</td><td>1</td><td>0</td><td>3</td><td>1</td><td>97</td></tr><tr><td>273</td><td>4</td><td>79</td><td>408</td><td>1935</td><td>189</td><td>1</td><td>1</td><td>4</td><td>1</td><td>66</td></tr><tr><td>26</td><td>4</td><td>1203</td><td>443</td><td>214</td><td>167</td><td>0</td><td>1</td><td>5</td><td>2</td><td>91</td></tr><tr><td>304</td><td>4</td><td>951</td><td>377</td><td>1513</td><td>169</td><td>1</td><td>1</td><td>5</td><td>2</td><td>113</td></tr><tr><td>214</td><td>4</td><td>121</td><td>411</td><td>278</td><td>186</td><td>1</td><td>1</td><td>4</td><td>2</td><td>109</td></tr></tbody></table></div>"
      ]
     },
     "metadata": {
      "application/vnd.databricks.v1+output": {
       "addedWidgets": {},
       "aggData": [],
       "aggError": "",
       "aggOverflow": false,
       "aggSchema": [],
       "aggSeriesLimitReached": false,
       "aggType": "",
       "arguments": {},
       "columnCustomDisplayInfos": {},
       "data": [
        [
         "228",
         "4",
         "108",
         "385",
         "232",
         "1861",
         "1",
         "1",
         "4",
         "1",
         "93"
        ],
        [
         "244",
         "4",
         "1467",
         "369",
         "319",
         "20",
         "1",
         "0",
         "4",
         "2",
         "62"
        ],
        [
         "228",
         "4",
         "1408",
         "392",
         "315",
         "229",
         "1",
         "0",
         "4",
         "2",
         "95"
        ],
        [
         "324",
         "4",
         "787",
         "408",
         "22",
         "1947",
         "1",
         "1",
         "4",
         "1",
         "66"
        ],
        [
         "304",
         "4",
         "757",
         "493",
         "1615",
         "1852",
         "1",
         "1",
         "4",
         "2",
         "52"
        ],
        [
         "339",
         "4",
         "711",
         "422",
         "1835",
         "199",
         "1",
         "1",
         "4",
         "1",
         "65"
        ],
        [
         "215",
         "4",
         "1201",
         "37",
         "2465",
         "2001",
         "1",
         "0",
         "3",
         "1",
         "97"
        ],
        [
         "273",
         "4",
         "79",
         "408",
         "1935",
         "189",
         "1",
         "1",
         "4",
         "1",
         "66"
        ],
        [
         "26",
         "4",
         "1203",
         "443",
         "214",
         "167",
         "0",
         "1",
         "5",
         "2",
         "91"
        ],
        [
         "304",
         "4",
         "951",
         "377",
         "1513",
         "169",
         "1",
         "1",
         "5",
         "2",
         "113"
        ],
        [
         "214",
         "4",
         "121",
         "411",
         "278",
         "186",
         "1",
         "1",
         "4",
         "2",
         "109"
        ]
       ],
       "datasetInfos": [],
       "dbfsResultPath": null,
       "isJsonSchema": true,
       "metadata": {},
       "overflow": false,
       "plotOptions": {
        "customPlotOptions": {},
        "displayType": "table",
        "pivotAggregation": null,
        "pivotColumns": null,
        "xColumns": null,
        "yColumns": null
       },
       "removedWidgets": [],
       "schema": [
        {
         "metadata": "{}",
         "name": "Consumo",
         "type": "\"string\""
        },
        {
         "metadata": "{}",
         "name": "Cilindros",
         "type": "\"string\""
        },
        {
         "metadata": "{}",
         "name": "Cilindradas",
         "type": "\"string\""
        },
        {
         "metadata": "{}",
         "name": "RelEixoTraseiro",
         "type": "\"string\""
        },
        {
         "metadata": "{}",
         "name": "Peso",
         "type": "\"string\""
        },
        {
         "metadata": "{}",
         "name": "Tempo",
         "type": "\"string\""
        },
        {
         "metadata": "{}",
         "name": "TipoMotor",
         "type": "\"string\""
        },
        {
         "metadata": "{}",
         "name": "Transmissao",
         "type": "\"string\""
        },
        {
         "metadata": "{}",
         "name": "Marchas",
         "type": "\"string\""
        },
        {
         "metadata": "{}",
         "name": "Carburadors",
         "type": "\"string\""
        },
        {
         "metadata": "{}",
         "name": "HP",
         "type": "\"string\""
        }
       ],
       "type": "table"
      }
     },
     "output_type": "display_data"
    },
    {
     "output_type": "execute_result",
     "data": {
      "text/plain": [
       "DataFrame[Consumo: string, Cilindros: string, Cilindradas: string, RelEixoTraseiro: string, Peso: string, Tempo: string, TipoMotor: string, Transmissao: string, Marchas: string, Carburadors: string, HP: string]"
      ]
     },
     "execution_count": 9,
     "metadata": {},
     "output_type": "execute_result"
    }
   ],
   "source": [
    "%%sql\n",
    "SELECT *\n",
    "    FROM CARROS\n",
    "    WHERE Cilindros = 4"
   ]
  },
  {
   "cell_type": "code",
   "execution_count": 0,
   "metadata": {
    "application/vnd.databricks.v1+cell": {
     "cellMetadata": {
      "byteLimit": 2048000,
      "implicitDf": true,
      "rowLimit": 10000
     },
     "inputWidgets": {},
     "nuid": "9224303b-5064-4ea1-8bf6-698f793dc119",
     "showTitle": false,
     "tableResultSettingsMap": {},
     "title": ""
    }
   },
   "outputs": [
    {
     "output_type": "display_data",
     "data": {
      "text/html": [
       "<style scoped>\n",
       "  .table-result-container {\n",
       "    max-height: 300px;\n",
       "    overflow: auto;\n",
       "  }\n",
       "  table, th, td {\n",
       "    border: 1px solid black;\n",
       "    border-collapse: collapse;\n",
       "  }\n",
       "  th, td {\n",
       "    padding: 5px;\n",
       "  }\n",
       "  th {\n",
       "    text-align: left;\n",
       "  }\n",
       "</style><div class='table-result-container'><table class='table-result'><thead style='background-color: white'><tr><th>TipoMotor</th><th>PesoMedio</th><th>Quantidade</th></tr></thead><tbody><tr><td>1</td><td>1062.25</td><td>4</td></tr><tr><td>0</td><td>1138.0</td><td>3</td></tr></tbody></table></div>"
      ]
     },
     "metadata": {
      "application/vnd.databricks.v1+output": {
       "addedWidgets": {},
       "aggData": [],
       "aggError": "",
       "aggOverflow": false,
       "aggSchema": [],
       "aggSeriesLimitReached": false,
       "aggType": "",
       "arguments": {},
       "columnCustomDisplayInfos": {},
       "data": [
        [
         "1",
         1062.25,
         4
        ],
        [
         "0",
         1138.0,
         3
        ]
       ],
       "datasetInfos": [],
       "dbfsResultPath": null,
       "isJsonSchema": true,
       "metadata": {},
       "overflow": false,
       "plotOptions": {
        "customPlotOptions": {},
        "displayType": "table",
        "pivotAggregation": null,
        "pivotColumns": null,
        "xColumns": null,
        "yColumns": null
       },
       "removedWidgets": [],
       "schema": [
        {
         "metadata": "{}",
         "name": "TipoMotor",
         "type": "\"string\""
        },
        {
         "metadata": "{}",
         "name": "PesoMedio",
         "type": "\"double\""
        },
        {
         "metadata": "{}",
         "name": "Quantidade",
         "type": "\"long\""
        }
       ],
       "type": "table"
      }
     },
     "output_type": "display_data"
    },
    {
     "output_type": "execute_result",
     "data": {
      "text/plain": [
       "DataFrame[TipoMotor: string, PesoMedio: double, Quantidade: bigint]"
      ]
     },
     "execution_count": 11,
     "metadata": {},
     "output_type": "execute_result"
    }
   ],
   "source": [
    "%%sql\n",
    "SELECT TipoMotor, AVG(Peso) AS PesoMedio, COUNT(*) AS Quantidade\n",
    "FROM carros\n",
    "WHERE Cilindros = 6\n",
    "GROUP BY TipoMotor\n",
    "HAVING AVG(Peso) > 100\n",
    "ORDER BY Quantidade DESC"
   ]
  },
  {
   "cell_type": "code",
   "execution_count": 0,
   "metadata": {
    "application/vnd.databricks.v1+cell": {
     "cellMetadata": {
      "byteLimit": 2048000,
      "rowLimit": 10000
     },
     "inputWidgets": {},
     "nuid": "652432ed-1e5e-4bd9-bfeb-35607bf32ba0",
     "showTitle": false,
     "tableResultSettingsMap": {},
     "title": ""
    }
   },
   "outputs": [
    {
     "output_type": "stream",
     "name": "stdout",
     "output_type": "stream",
     "text": [
      "+-------+---------+-----------+---------------+----+-----+---------+-----------+-------+-----------+---+\n|Consumo|Cilindros|Cilindradas|RelEixoTraseiro|Peso|Tempo|TipoMotor|Transmissao|Marchas|Carburadors| HP|\n+-------+---------+-----------+---------------+----+-----+---------+-----------+-------+-----------+---+\n|     21|        6|        160|             39| 262| 1646|        0|          1|      4|          4|110|\n|     21|        6|        160|             39|2875| 1702|        0|          1|      4|          4|110|\n|    214|        6|        258|            308|3215| 1944|        1|          0|      3|          1|110|\n|    181|        6|        225|            276| 346| 2022|        1|          0|      3|          1|105|\n|    192|        6|       1676|            392| 344|  183|        1|          0|      4|          4|123|\n|    178|        6|       1676|            392| 344|  189|        1|          0|      4|          4|123|\n|    197|        6|        145|            362| 277|  155|        0|          1|      5|          6|175|\n+-------+---------+-----------+---------------+----+-----+---------+-----------+-------+-----------+---+\n\n"
     ]
    }
   ],
   "source": [
    "%python\n",
    "df_carros = spark.table(\"carros\")\n",
    "# Filtrar os carros com cilindros igual a 6\n",
    "df_carros_filtrados = df_carros.filter(df_carros[\"cilindros\"] == 6)\n",
    "# Exibir o resultado\n",
    "df_carros_filtrados.show()"
   ]
  },
  {
   "cell_type": "code",
   "execution_count": 0,
   "metadata": {
    "application/vnd.databricks.v1+cell": {
     "cellMetadata": {
      "byteLimit": 2048000,
      "rowLimit": 10000
     },
     "inputWidgets": {},
     "nuid": "5d94db54-fd47-4250-b82c-cd11be547332",
     "showTitle": false,
     "tableResultSettingsMap": {},
     "title": ""
    }
   },
   "outputs": [
    {
     "output_type": "stream",
     "name": "stdout",
     "output_type": "stream",
     "text": [
      "+-------+---------+-----------+---------------+----+-----+---------+-----------+-------+-----------+---+\n|Consumo|Cilindros|Cilindradas|RelEixoTraseiro|Peso|Tempo|TipoMotor|Transmissao|Marchas|Carburadors| HP|\n+-------+---------+-----------+---------------+----+-----+---------+-----------+-------+-----------+---+\n|     21|        6|        160|             39| 262| 1646|        0|          1|      4|          4|110|\n|     21|        6|        160|             39|2875| 1702|        0|          1|      4|          4|110|\n|    214|        6|        258|            308|3215| 1944|        1|          0|      3|          1|110|\n|    181|        6|        225|            276| 346| 2022|        1|          0|      3|          1|105|\n|    192|        6|       1676|            392| 344|  183|        1|          0|      4|          4|123|\n|    178|        6|       1676|            392| 344|  189|        1|          0|      4|          4|123|\n|    197|        6|        145|            362| 277|  155|        0|          1|      5|          6|175|\n+-------+---------+-----------+---------------+----+-----+---------+-----------+-------+-----------+---+\n\n"
     ]
    }
   ],
   "source": [
    "%python\n",
    "# Executar o comando SQL para filtrar os carros com cilindros igual a 6\n",
    "df_carros_filtrados = spark.sql(\"SELECT * FROM carros WHERE cilindros = 6\")\n",
    "# Exibir o resultado\n",
    "df_carros_filtrados.show()"
   ]
  },
  {
   "cell_type": "code",
   "execution_count": 0,
   "metadata": {
    "application/vnd.databricks.v1+cell": {
     "cellMetadata": {
      "byteLimit": 2048000,
      "rowLimit": 10000
     },
     "inputWidgets": {},
     "nuid": "eeb931c3-d447-4f25-aa17-248a946eae2d",
     "showTitle": false,
     "tableResultSettingsMap": {},
     "title": ""
    }
   },
   "outputs": [
    {
     "output_type": "stream",
     "name": "stdout",
     "output_type": "stream",
     "text": [
      "+---------+---------+----------+\n|TipoMotor|PesoMedio|Quantidade|\n+---------+---------+----------+\n|        1|  1062.25|         4|\n|        0|   1138.0|         3|\n+---------+---------+----------+\n\n"
     ]
    }
   ],
   "source": [
    "%python\n",
    "df_resultado = spark.sql(\"\"\"\n",
    "    SELECT TipoMotor, AVG(Peso) AS PesoMedio, COUNT(*) AS Quantidade\n",
    "    FROM carros\n",
    "    WHERE Cilindros = 6\n",
    "    GROUP BY TipoMotor\n",
    "    HAVING AVG(Peso) > 100\n",
    "    ORDER BY Quantidade DESC\n",
    "\"\"\")\n",
    "df_resultado.show()"
   ]
  },
  {
   "cell_type": "code",
   "execution_count": 0,
   "metadata": {
    "application/vnd.databricks.v1+cell": {
     "cellMetadata": {
      "byteLimit": 2048000,
      "rowLimit": 10000
     },
     "inputWidgets": {},
     "nuid": "163fabbd-4d9f-4781-9841-e87eadee7844",
     "showTitle": false,
     "tableResultSettingsMap": {},
     "title": ""
    }
   },
   "outputs": [
    {
     "output_type": "stream",
     "name": "stdout",
     "output_type": "stream",
     "text": [
      "+---------+---------+----------+\n|TipoMotor|PesoMedio|Quantidade|\n+---------+---------+----------+\n|        1|  1062.25|         4|\n|        0|   1138.0|         3|\n+---------+---------+----------+\n\n"
     ]
    }
   ],
   "source": [
    "%python\n",
    "from pyspark.sql.functions import avg, count, desc\n",
    "df_resultado = (\n",
    "    spark.table(\"carros\")\n",
    "    .filter(\"Cilindros = 6\")\n",
    "    .groupBy(\"TipoMotor\")\n",
    "    .agg(avg(\"Peso\").alias(\"PesoMedio\"), count(\"*\").alias(\"Quantidade\"))\n",
    "    .filter(\"PesoMedio > 100\")\n",
    "    .orderBy(desc(\"Quantidade\"))\n",
    ")\n",
    "df_resultado.show()"
   ]
  }
 ],
 "metadata": {
  "application/vnd.databricks.v1+notebook": {
   "computePreferences": null,
   "dashboards": [],
   "environmentMetadata": null,
   "inputWidgetPreferences": null,
   "language": "python",
   "notebookMetadata": {
    "mostRecentlyExecutedCommandWithImplicitDF": {
     "commandId": 7475960445064407,
     "dataframes": [
      "_sqldf"
     ]
    },
    "pythonIndentUnit": 4
   },
   "notebookName": "notebook03",
   "widgets": {}
  },
  "language_info": {
   "name": "python"
  }
 },
 "nbformat": 4,
 "nbformat_minor": 0
}