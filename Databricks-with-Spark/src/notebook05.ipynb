{
 "cells": [
  {
   "cell_type": "code",
   "execution_count": 0,
   "metadata": {
    "application/vnd.databricks.v1+cell": {
     "cellMetadata": {
      "byteLimit": 2048000,
      "rowLimit": 10000
     },
     "inputWidgets": {},
     "nuid": "4368cfa7-ee84-49eb-b6c3-fdaad976ffe0",
     "showTitle": false,
     "tableResultSettingsMap": {},
     "title": ""
    }
   },
   "outputs": [
    {
     "output_type": "stream",
     "name": "stdout",
     "output_type": "stream",
     "text": [
      "+---+-------------------+------+-------------+------+----------+\n| id|               nome|status|       cidade|vendas|      data|\n+---+-------------------+------+-------------+------+----------+\n|  1|   Carminda Pestana| Ativo|  Santa Maria|    23|2020-08-11|\n|  2|    Deolinda Vilela| Ativo|Novo Hamburgo|    34|2020-03-05|\n|  3|   Emídio Dornelles| Ativo| Porto Alegre|    34|2020-02-05|\n|  4|Felisbela Dornelles| Ativo| Porto Alegre|    36|2020-02-05|\n|  5|     Graça Ornellas| Ativo| Porto Alegre|    12|2020-02-05|\n|  6|   Matilde Rebouças| Ativo| Porto Alegre|    22|2019-01-05|\n|  7|    Noêmia   Orriça| Ativo|  Santa Maria|    45|2019-10-05|\n|  8|      Roque Vásquez| Ativo| Porto Alegre|    65|2020-03-05|\n|  9|      Uriel Queiroz| Ativo| Porto Alegre|    54|2018-05-05|\n| 10|   Viviana Sequeira| Ativo| Porto Alegre|     0|2020-09-05|\n+---+-------------------+------+-------------+------+----------+\n\n"
     ]
    }
   ],
   "source": [
    "# Importando as bibliotecas necessárias\n",
    "from delta.tables import *\n",
    "# Lendo o DataFrame original do Delta Lake\n",
    "despachantes_df = spark.table(\"despachantes\")\n",
    "despachantes_df.show()"
   ]
  },
  {
   "cell_type": "code",
   "execution_count": 0,
   "metadata": {
    "application/vnd.databricks.v1+cell": {
     "cellMetadata": {
      "byteLimit": 2048000,
      "rowLimit": 10000
     },
     "inputWidgets": {},
     "nuid": "5c9eb9a0-034b-47b5-a15f-ce7ffeb7d9d1",
     "showTitle": false,
     "tableResultSettingsMap": {},
     "title": ""
    }
   },
   "outputs": [
    {
     "output_type": "stream",
     "name": "stdout",
     "output_type": "stream",
     "text": [
      "+---+-------------------+-------+--------------+------+----------+\n| id|               nome| status|        cidade|vendas|      data|\n+---+-------------------+-------+--------------+------+----------+\n|  1|               João|  Ativo|     São Paulo| 10000|2023-07-05|\n|  2|    Deolinda Vilela|  Ativo| Novo Hamburgo|    34|2020-03-05|\n|  3|   Emídio Dornelles|  Ativo|  Porto Alegre|    34|2020-02-05|\n|  4|Felisbela Dornelles|  Ativo|  Porto Alegre|    36|2020-02-05|\n|  5|     Graça Ornellas|  Ativo|  Porto Alegre|    12|2020-02-05|\n|  6|   Matilde Rebouças|  Ativo|  Porto Alegre|    22|2019-01-05|\n|  7|    Noêmia   Orriça|  Ativo|   Santa Maria|    45|2019-10-05|\n|  8|      Roque Vásquez|  Ativo|  Porto Alegre|    65|2020-03-05|\n|  9|      Uriel Queiroz|  Ativo|  Porto Alegre|    54|2018-05-05|\n| 10|   Viviana Sequeira|  Ativo|  Porto Alegre|     0|2020-09-05|\n| 11|              Maria|Inativo|Rio de Janeiro|  5000|2023-07-05|\n+---+-------------------+-------+--------------+------+----------+\n\n"
     ]
    }
   ],
   "source": [
    "# Criando um novo DataFrame com os dados que serão inseridos ou atualizados\n",
    "novo_despachante = spark.createDataFrame([(1, \"João\", \"Ativo\", \"São Paulo\", 10000, \"2023-07-05\"),\n",
    "                                          (11, \"Maria\", \"Inativo\", \"Rio de Janeiro\", 5000, \"2023-07-05\")],\n",
    "                                         [\"id\", \"nome\", \"status\", \"cidade\", \"vendas\", \"data\"])\n",
    "\n",
    "# Especificando o caminho para o diretório Delta Lake onde os dados serão armazenados\n",
    "delta_path = \"/Volumes/workspace/default/data_files/despachantes\"\n",
    "\n",
    "# Salvando o DataFrame original no formato Delta Lake\n",
    "despachantes_df.write.format(\"delta\").mode(\"overwrite\").save(delta_path)\n",
    "\n",
    "# Carregando o DeltaTable a partir do caminho especificado\n",
    "delta_table = DeltaTable.forPath(spark, delta_path)\n",
    "\n",
    "# Definindo a condição de merge (como exemplo, vamos usar a coluna \"id\")\n",
    "condition = \"target.id = source.id\"\n",
    "\n",
    "# Executando o merge/upsert\n",
    "delta_table.alias(\"target\") \\\n",
    "    .merge(novo_despachante.alias(\"source\"), condition) \\\n",
    "    .whenMatchedUpdate(set={\"nome\": \"source.nome\", \"status\": \"source.status\", \"cidade\": \"source.cidade\",\n",
    "                            \"vendas\": \"source.vendas\", \"data\": \"source.data\"}) \\\n",
    "    .whenNotMatchedInsert(values={\"id\": \"source.id\", \"nome\": \"source.nome\", \"status\": \"source.status\",\n",
    "                                  \"cidade\": \"source.cidade\", \"vendas\": \"source.vendas\", \"data\": \"source.data\"}) \\\n",
    "    .execute()\n",
    "\n",
    "# Lendo o DataFrame resultante após o merge/upsert\n",
    "despachantes_atualizados_df = spark.read.format(\"delta\").load(delta_path)\n",
    "\n",
    "# Exibindo o DataFrame resultante\n",
    "despachantes_atualizados_df.orderBy(\"id\").show()\n"
   ]
  },
  {
   "cell_type": "code",
   "execution_count": 0,
   "metadata": {
    "application/vnd.databricks.v1+cell": {
     "cellMetadata": {
      "byteLimit": 2048000,
      "rowLimit": 10000
     },
     "inputWidgets": {},
     "nuid": "241914c4-4f73-4cdb-8ff5-b9edd0ceaa42",
     "showTitle": false,
     "tableResultSettingsMap": {},
     "title": ""
    }
   },
   "outputs": [
    {
     "output_type": "execute_result",
     "data": {
      "text/plain": [
       "True"
      ]
     },
     "execution_count": 5,
     "metadata": {},
     "output_type": "execute_result"
    }
   ],
   "source": [
    "dbutils.fs.rm(\"/Volumes/workspace/default/data_files/despachantes\", recurse=True)"
   ]
  }
 ],
 "metadata": {
  "application/vnd.databricks.v1+notebook": {
   "computePreferences": null,
   "dashboards": [],
   "environmentMetadata": null,
   "inputWidgetPreferences": null,
   "language": "python",
   "notebookMetadata": {
    "pythonIndentUnit": 4
   },
   "notebookName": "notebook05",
   "widgets": {}
  },
  "language_info": {
   "name": "python"
  }
 },
 "nbformat": 4,
 "nbformat_minor": 0
}